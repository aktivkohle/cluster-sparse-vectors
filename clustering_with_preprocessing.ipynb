{
 "cells": [
  {
   "cell_type": "markdown",
   "metadata": {},
   "source": [
    "## Run a script which pulls about 7364 unique english language captions and their tfidf vectors from the MySQL databank and brings into scope the variables we need, a sparse matrix and also a matching dataframe with the names of the videos."
   ]
  },
  {
   "cell_type": "code",
   "execution_count": 1,
   "metadata": {},
   "outputs": [
    {
     "name": "stdout",
     "output_type": "stream",
     "text": [
      "CPU times: user 9.04 s, sys: 364 ms, total: 9.41 s\n",
      "Wall time: 9.56 s\n"
     ]
    }
   ],
   "source": [
    "%%time\n",
    "%run prepare_variables.py"
   ]
  },
  {
   "cell_type": "code",
   "execution_count": 2,
   "metadata": {},
   "outputs": [
    {
     "data": {
      "text/plain": [
       "(7364, 429429)"
      ]
     },
     "execution_count": 2,
     "metadata": {},
     "output_type": "execute_result"
    }
   ],
   "source": [
    "p.shape"
   ]
  },
  {
   "cell_type": "code",
   "execution_count": 3,
   "metadata": {},
   "outputs": [
    {
     "data": {
      "text/plain": [
       "<7364x429429 sparse matrix of type '<class 'numpy.float64'>'\n",
       "\twith 1581374 stored elements in COOrdinate format>"
      ]
     },
     "execution_count": 3,
     "metadata": {},
     "output_type": "execute_result"
    }
   ],
   "source": [
    "p"
   ]
  },
  {
   "cell_type": "markdown",
   "metadata": {},
   "source": [
    "#### That is very sparse - only 0.05% of the matrix has anything in it."
   ]
  },
  {
   "cell_type": "markdown",
   "metadata": {},
   "source": [
    "#### http://scikit-learn.org/stable/auto_examples/text/document_clustering.html#sphx-glr-auto-examples-text-document-clustering-py\n",
    "\n",
    "#### http://scikit-learn.org/stable/modules/generated/sklearn.preprocessing.Normalizer.html#sklearn.preprocessing.Normalizer"
   ]
  },
  {
   "cell_type": "code",
   "execution_count": 5,
   "metadata": {
    "collapsed": true
   },
   "outputs": [],
   "source": [
    "from sklearn.pipeline import make_pipeline\n",
    "from sklearn.decomposition import TruncatedSVD\n",
    "from sklearn.preprocessing import Normalizer\n",
    "normalizer = Normalizer(copy=False)\n",
    "from sklearn.cluster import KMeans\n",
    "from numpy.random import random"
   ]
  },
  {
   "cell_type": "code",
   "execution_count": 22,
   "metadata": {},
   "outputs": [
    {
     "name": "stdout",
     "output_type": "stream",
     "text": [
      "CPU times: user 10min 12s, sys: 1min 37s, total: 11min 50s\n",
      "Wall time: 5min 20s\n"
     ]
    }
   ],
   "source": [
    "%%time\n",
    "svd = TruncatedSVD(n_components=1000, n_iter=7, random_state=42)\n",
    "pipeline = make_pipeline(svd, normalizer)\n",
    "p_new1 = pipeline.fit_transform(p)\n",
    "p_new1.shape"
   ]
  },
  {
   "cell_type": "code",
   "execution_count": 6,
   "metadata": {},
   "outputs": [
    {
     "name": "stdout",
     "output_type": "stream",
     "text": [
      "CPU times: user 30min 35s, sys: 2min 15s, total: 32min 50s\n",
      "Wall time: 12min 33s\n"
     ]
    }
   ],
   "source": [
    "%%time\n",
    "svd = TruncatedSVD(n_components=2000, n_iter=7, random_state=42)\n",
    "pipeline = make_pipeline(svd, normalizer)\n",
    "p_new2 = pipeline.fit_transform(p)"
   ]
  },
  {
   "cell_type": "code",
   "execution_count": 24,
   "metadata": {},
   "outputs": [
    {
     "name": "stdout",
     "output_type": "stream",
     "text": [
      "CPU times: user 8min 8s, sys: 2min 58s, total: 11min 7s\n",
      "Wall time: 6min 31s\n"
     ]
    }
   ],
   "source": [
    "%%time\n",
    "svd = TruncatedSVD(n_components=150, n_iter=100, random_state=42)\n",
    "pipeline = make_pipeline(svd, normalizer)\n",
    "p_new3 = pipeline.fit_transform(p)"
   ]
  },
  {
   "cell_type": "code",
   "execution_count": 33,
   "metadata": {},
   "outputs": [
    {
     "name": "stdout",
     "output_type": "stream",
     "text": [
      "CPU times: user 72 ms, sys: 0 ns, total: 72 ms\n",
      "Wall time: 71.1 ms\n"
     ]
    }
   ],
   "source": [
    "%%time\n",
    "svd = TruncatedSVD(n_components=150, n_iter=100, random_state=42)\n",
    "p_new4 = normalizer.fit_transform(p)"
   ]
  },
  {
   "cell_type": "code",
   "execution_count": 5,
   "metadata": {
    "collapsed": true
   },
   "outputs": [],
   "source": [
    "#  p_new = normalizer.fit_transform(p)"
   ]
  },
  {
   "cell_type": "code",
   "execution_count": 35,
   "metadata": {},
   "outputs": [
    {
     "name": "stdout",
     "output_type": "stream",
     "text": [
      "(7364, 1000) (7364, 2000) (7364, 150) (7364, 429429)\n"
     ]
    }
   ],
   "source": [
    "print (p_new1.shape, p_new2.shape, p_new3.shape, p_new4.shape)"
   ]
  },
  {
   "cell_type": "code",
   "execution_count": null,
   "metadata": {
    "collapsed": true
   },
   "outputs": [],
   "source": [
    "%%time\n",
    "kmeans1 = KMeans(n_clusters=5).fit(p_new1) "
   ]
  },
  {
   "cell_type": "code",
   "execution_count": 8,
   "metadata": {
    "collapsed": true
   },
   "outputs": [],
   "source": [
    "%%time\n",
    "kmeans = KMeans(n_clusters=5).fit(p_new2) "
   ]
  },
  {
   "cell_type": "code",
   "execution_count": 14,
   "metadata": {
    "collapsed": true
   },
   "outputs": [],
   "source": [
    "%%time\n",
    "kmeans = KMeans(n_clusters=5).fit(p_new3) "
   ]
  },
  {
   "cell_type": "code",
   "execution_count": null,
   "metadata": {
    "collapsed": true
   },
   "outputs": [],
   "source": [
    "%%time\n",
    "kmeans = KMeans(n_clusters=5).fit(p_new4)"
   ]
  },
  {
   "cell_type": "markdown",
   "metadata": {},
   "source": [
    "## How many videos has it found in each cluster?"
   ]
  },
  {
   "cell_type": "code",
   "execution_count": null,
   "metadata": {
    "collapsed": true
   },
   "outputs": [],
   "source": [
    "kmeans = kmeans3"
   ]
  },
  {
   "cell_type": "code",
   "execution_count": 31,
   "metadata": {},
   "outputs": [
    {
     "data": {
      "text/html": [
       "<div>\n",
       "<style>\n",
       "    .dataframe thead tr:only-child th {\n",
       "        text-align: right;\n",
       "    }\n",
       "\n",
       "    .dataframe thead th {\n",
       "        text-align: left;\n",
       "    }\n",
       "\n",
       "    .dataframe tbody tr th {\n",
       "        vertical-align: top;\n",
       "    }\n",
       "</style>\n",
       "<table border=\"1\" class=\"dataframe\">\n",
       "  <thead>\n",
       "    <tr style=\"text-align: right;\">\n",
       "      <th></th>\n",
       "      <th>videoTitle</th>\n",
       "    </tr>\n",
       "    <tr>\n",
       "      <th>cluster_labels</th>\n",
       "      <th></th>\n",
       "    </tr>\n",
       "  </thead>\n",
       "  <tbody>\n",
       "    <tr>\n",
       "      <th>0</th>\n",
       "      <td>1839</td>\n",
       "    </tr>\n",
       "    <tr>\n",
       "      <th>1</th>\n",
       "      <td>2037</td>\n",
       "    </tr>\n",
       "    <tr>\n",
       "      <th>2</th>\n",
       "      <td>2483</td>\n",
       "    </tr>\n",
       "    <tr>\n",
       "      <th>3</th>\n",
       "      <td>1005</td>\n",
       "    </tr>\n",
       "  </tbody>\n",
       "</table>\n",
       "</div>"
      ],
      "text/plain": [
       "                videoTitle\n",
       "cluster_labels            \n",
       "0                     1839\n",
       "1                     2037\n",
       "2                     2483\n",
       "3                     1005"
      ]
     },
     "execution_count": 31,
     "metadata": {},
     "output_type": "execute_result"
    }
   ],
   "source": [
    "videos_df['cluster_labels'] = kmeans.labels_\n",
    "videos_df.groupby('cluster_labels').count()[['videoTitle']]"
   ]
  },
  {
   "cell_type": "markdown",
   "metadata": {},
   "source": [
    "## Sample ten videos randomly from each of those groups:"
   ]
  },
  {
   "cell_type": "code",
   "execution_count": 32,
   "metadata": {
    "scrolled": false
   },
   "outputs": [
    {
     "data": {
      "text/html": [
       "<div>\n",
       "<style>\n",
       "    .dataframe thead tr:only-child th {\n",
       "        text-align: right;\n",
       "    }\n",
       "\n",
       "    .dataframe thead th {\n",
       "        text-align: left;\n",
       "    }\n",
       "\n",
       "    .dataframe tbody tr th {\n",
       "        vertical-align: top;\n",
       "    }\n",
       "</style>\n",
       "<table border=\"1\" class=\"dataframe\">\n",
       "  <thead>\n",
       "    <tr style=\"text-align: right;\">\n",
       "      <th></th>\n",
       "      <th></th>\n",
       "      <th>videoTitle</th>\n",
       "      <th>cluster_labels</th>\n",
       "      <th>link</th>\n",
       "    </tr>\n",
       "  </thead>\n",
       "  <tbody>\n",
       "    <tr>\n",
       "      <th rowspan=\"10\" valign=\"top\">0</th>\n",
       "      <th>6764</th>\n",
       "      <td>Humphreys Summer Cooking Tips with KUSI</td>\n",
       "      <td>0</td>\n",
       "      <td>https://www.youtube.com/watch?v=XaYhbEVoHWc</td>\n",
       "    </tr>\n",
       "    <tr>\n",
       "      <th>1799</th>\n",
       "      <td>Mozart Minute: Chihiro Fukuda (Cooking and Cla...</td>\n",
       "      <td>0</td>\n",
       "      <td>https://www.youtube.com/watch?v=bYRK7YKntk8</td>\n",
       "    </tr>\n",
       "    <tr>\n",
       "      <th>783</th>\n",
       "      <td>DIY M&amp;M's Banana Create M&amp;M's Fruit Surprise E...</td>\n",
       "      <td>0</td>\n",
       "      <td>https://www.youtube.com/watch?v=4ZSVMRbrrek</td>\n",
       "    </tr>\n",
       "    <tr>\n",
       "      <th>7324</th>\n",
       "      <td>Get Marty: Owner Of Service Dog Cited</td>\n",
       "      <td>0</td>\n",
       "      <td>https://www.youtube.com/watch?v=zTalPwbmXBM</td>\n",
       "    </tr>\n",
       "    <tr>\n",
       "      <th>5082</th>\n",
       "      <td>Nonlinear Data - Intro to Machine Learning</td>\n",
       "      <td>0</td>\n",
       "      <td>https://www.youtube.com/watch?v=PxE2bbG2Hkw</td>\n",
       "    </tr>\n",
       "    <tr>\n",
       "      <th>1045</th>\n",
       "      <td>Teaching in an Online Graduate Program  – Anno...</td>\n",
       "      <td>0</td>\n",
       "      <td>https://www.youtube.com/watch?v=76YKkk8dWt4</td>\n",
       "    </tr>\n",
       "    <tr>\n",
       "      <th>2367</th>\n",
       "      <td>Cooking Safety with Columbia Housing</td>\n",
       "      <td>0</td>\n",
       "      <td>https://www.youtube.com/watch?v=Ee-erS8KIuQ</td>\n",
       "    </tr>\n",
       "    <tr>\n",
       "      <th>1840</th>\n",
       "      <td>What's Cooking  Ezras Enlightened Cafe</td>\n",
       "      <td>0</td>\n",
       "      <td>https://www.youtube.com/watch?v=C7ApHn2hqZc</td>\n",
       "    </tr>\n",
       "    <tr>\n",
       "      <th>3289</th>\n",
       "      <td>Funny Kids Game TV - Cooking Mama Let's Cook -...</td>\n",
       "      <td>0</td>\n",
       "      <td>https://www.youtube.com/watch?v=ibYV3C8OXQk</td>\n",
       "    </tr>\n",
       "    <tr>\n",
       "      <th>917</th>\n",
       "      <td>Village Food factory -  Amazing village style ...</td>\n",
       "      <td>0</td>\n",
       "      <td>https://www.youtube.com/watch?v=66bFU50Wwb8</td>\n",
       "    </tr>\n",
       "    <tr>\n",
       "      <th rowspan=\"10\" valign=\"top\">1</th>\n",
       "      <th>3866</th>\n",
       "      <td>Food Review: Cooking chinese hot pot at home</td>\n",
       "      <td>1</td>\n",
       "      <td>https://www.youtube.com/watch?v=KoiWzEPBCqU</td>\n",
       "    </tr>\n",
       "    <tr>\n",
       "      <th>3542</th>\n",
       "      <td>Regression Intro - Practical Machine Learning ...</td>\n",
       "      <td>1</td>\n",
       "      <td>https://www.youtube.com/watch?v=JcI5Vnw0b2c</td>\n",
       "    </tr>\n",
       "    <tr>\n",
       "      <th>1136</th>\n",
       "      <td>YumPower cooking demos at MOA for Go Red</td>\n",
       "      <td>1</td>\n",
       "      <td>https://www.youtube.com/watch?v=7Z6_cPKVWUU</td>\n",
       "    </tr>\n",
       "    <tr>\n",
       "      <th>6748</th>\n",
       "      <td>CS:GO's Future from Valve's AMA</td>\n",
       "      <td>1</td>\n",
       "      <td>https://www.youtube.com/watch?v=x7D76z4k0Kk</td>\n",
       "    </tr>\n",
       "    <tr>\n",
       "      <th>6006</th>\n",
       "      <td>Curry Chicken Sub | Thank You Speech | 咖哩雞潛艇 :...</td>\n",
       "      <td>1</td>\n",
       "      <td>https://www.youtube.com/watch?v=Twg-Zp7iXOI</td>\n",
       "    </tr>\n",
       "    <tr>\n",
       "      <th>2229</th>\n",
       "      <td>ENG SUBS Battalion Vostok fighter cooking bors...</td>\n",
       "      <td>1</td>\n",
       "      <td>https://www.youtube.com/watch?v=DtuniGlC_Ko</td>\n",
       "    </tr>\n",
       "    <tr>\n",
       "      <th>868</th>\n",
       "      <td>Cooking with Robonyan Episode 3</td>\n",
       "      <td>1</td>\n",
       "      <td>https://www.youtube.com/watch?v=5POgkpRFtA0</td>\n",
       "    </tr>\n",
       "    <tr>\n",
       "      <th>4980</th>\n",
       "      <td>Cooking Time! Breakfast in a Cup</td>\n",
       "      <td>1</td>\n",
       "      <td>https://www.youtube.com/watch?v=piFRKfAbyQA</td>\n",
       "    </tr>\n",
       "    <tr>\n",
       "      <th>1233</th>\n",
       "      <td>RebelWellness Is...Vanessa Cook</td>\n",
       "      <td>1</td>\n",
       "      <td>https://www.youtube.com/watch?v=8RBK0HEoRLU</td>\n",
       "    </tr>\n",
       "    <tr>\n",
       "      <th>3140</th>\n",
       "      <td>MIMIC - Georgia Tech - Machine Learning</td>\n",
       "      <td>1</td>\n",
       "      <td>https://www.youtube.com/watch?v=HNXejaW3LiU</td>\n",
       "    </tr>\n",
       "    <tr>\n",
       "      <th rowspan=\"10\" valign=\"top\">2</th>\n",
       "      <th>7099</th>\n",
       "      <td>Head of Big Data at Nortal, Lauri Ilison speak...</td>\n",
       "      <td>2</td>\n",
       "      <td>https://www.youtube.com/watch?v=yS4pohXrt5Q</td>\n",
       "    </tr>\n",
       "    <tr>\n",
       "      <th>3297</th>\n",
       "      <td>Learn the Deep English Method Fast</td>\n",
       "      <td>2</td>\n",
       "      <td>https://www.youtube.com/watch?v=iCedpqXLIe0</td>\n",
       "    </tr>\n",
       "    <tr>\n",
       "      <th>6134</th>\n",
       "      <td>The Capital Asset Pricing Model</td>\n",
       "      <td>2</td>\n",
       "      <td>https://www.youtube.com/watch?v=UJlJg9rxTvU</td>\n",
       "    </tr>\n",
       "    <tr>\n",
       "      <th>4901</th>\n",
       "      <td>Insights | Big data &amp; cognitive technologies t...</td>\n",
       "      <td>2</td>\n",
       "      <td>https://www.youtube.com/watch?v=P26wZdiIWRE</td>\n",
       "    </tr>\n",
       "    <tr>\n",
       "      <th>6684</th>\n",
       "      <td>4. Stochastic Gradient Descent Convergence</td>\n",
       "      <td>2</td>\n",
       "      <td>https://www.youtube.com/watch?v=wUUP63GEh20</td>\n",
       "    </tr>\n",
       "    <tr>\n",
       "      <th>2533</th>\n",
       "      <td>What is Machine Learning?</td>\n",
       "      <td>2</td>\n",
       "      <td>https://www.youtube.com/watch?v=f_uwKZIAeM0</td>\n",
       "    </tr>\n",
       "    <tr>\n",
       "      <th>2675</th>\n",
       "      <td>2. Sliding Windows</td>\n",
       "      <td>2</td>\n",
       "      <td>https://www.youtube.com/watch?v=FnpBTpjNLWw</td>\n",
       "    </tr>\n",
       "    <tr>\n",
       "      <th>4072</th>\n",
       "      <td>011 Machine learning for video games</td>\n",
       "      <td>2</td>\n",
       "      <td>https://www.youtube.com/watch?v=lhZo43WQ9FY</td>\n",
       "    </tr>\n",
       "    <tr>\n",
       "      <th>521</th>\n",
       "      <td>Deep learning</td>\n",
       "      <td>2</td>\n",
       "      <td>https://www.youtube.com/watch?v=2OCdnliQhA4</td>\n",
       "    </tr>\n",
       "    <tr>\n",
       "      <th>5352</th>\n",
       "      <td>Machine Learning With Python - Hierarchical Cl...</td>\n",
       "      <td>2</td>\n",
       "      <td>https://www.youtube.com/watch?v=R8cwXFth9M0</td>\n",
       "    </tr>\n",
       "    <tr>\n",
       "      <th rowspan=\"10\" valign=\"top\">3</th>\n",
       "      <th>1662</th>\n",
       "      <td>Mix Vegetable Pakora Recipe in Hindi By Cookin...</td>\n",
       "      <td>3</td>\n",
       "      <td>https://www.youtube.com/watch?v=BGNPmWP6S48</td>\n",
       "    </tr>\n",
       "    <tr>\n",
       "      <th>2607</th>\n",
       "      <td>HOW TO COOKING JAPANESE MADE “PEYOUNG YAKISOBA”</td>\n",
       "      <td>3</td>\n",
       "      <td>https://www.youtube.com/watch?v=fezuNasUxcM</td>\n",
       "    </tr>\n",
       "    <tr>\n",
       "      <th>1206</th>\n",
       "      <td>How I cooked Korean Mutton in Indian Style|Tam...</td>\n",
       "      <td>3</td>\n",
       "      <td>https://www.youtube.com/watch?v=8jX7EzxX618</td>\n",
       "    </tr>\n",
       "    <tr>\n",
       "      <th>4962</th>\n",
       "      <td>Sichuan Chicken Recipe - Szechuan Chicken by C...</td>\n",
       "      <td>3</td>\n",
       "      <td>https://www.youtube.com/watch?v=ph929uk8g50</td>\n",
       "    </tr>\n",
       "    <tr>\n",
       "      <th>5408</th>\n",
       "      <td>Tsubako cooking vegetarian pyttipanna　ツバコクッキング...</td>\n",
       "      <td>3</td>\n",
       "      <td>https://www.youtube.com/watch?v=rJ2u1c_vrls</td>\n",
       "    </tr>\n",
       "    <tr>\n",
       "      <th>47</th>\n",
       "      <td>[ML1-006] Setting up Jupyer</td>\n",
       "      <td>3</td>\n",
       "      <td>https://www.youtube.com/watch?v=_IlH5sj1geM</td>\n",
       "    </tr>\n",
       "    <tr>\n",
       "      <th>652</th>\n",
       "      <td>Chocolate Marble Cake Recipe in Hindi by Cooki...</td>\n",
       "      <td>3</td>\n",
       "      <td>https://www.youtube.com/watch?v=3tk9h241d4Y</td>\n",
       "    </tr>\n",
       "    <tr>\n",
       "      <th>6464</th>\n",
       "      <td>Chicken Manchurian (how to make chicken manchu...</td>\n",
       "      <td>3</td>\n",
       "      <td>https://www.youtube.com/watch?v=VXkPR2cd2XY</td>\n",
       "    </tr>\n",
       "    <tr>\n",
       "      <th>2803</th>\n",
       "      <td>Methi Pak / Methi ke Laddoo Recipe in Hindi By...</td>\n",
       "      <td>3</td>\n",
       "      <td>https://www.youtube.com/watch?v=G7bqrIOWz2A</td>\n",
       "    </tr>\n",
       "    <tr>\n",
       "      <th>3011</th>\n",
       "      <td>How to Make Ginger Fried Chicken |  Hilah Cooking</td>\n",
       "      <td>3</td>\n",
       "      <td>https://www.youtube.com/watch?v=H04Y9Gn7IUQ</td>\n",
       "    </tr>\n",
       "  </tbody>\n",
       "</table>\n",
       "</div>"
      ],
      "text/plain": [
       "                                               videoTitle  cluster_labels  \\\n",
       "0 6764            Humphreys Summer Cooking Tips with KUSI               0   \n",
       "  1799  Mozart Minute: Chihiro Fukuda (Cooking and Cla...               0   \n",
       "  783   DIY M&M's Banana Create M&M's Fruit Surprise E...               0   \n",
       "  7324              Get Marty: Owner Of Service Dog Cited               0   \n",
       "  5082         Nonlinear Data - Intro to Machine Learning               0   \n",
       "  1045  Teaching in an Online Graduate Program  – Anno...               0   \n",
       "  2367               Cooking Safety with Columbia Housing               0   \n",
       "  1840             What's Cooking  Ezras Enlightened Cafe               0   \n",
       "  3289  Funny Kids Game TV - Cooking Mama Let's Cook -...               0   \n",
       "  917   Village Food factory -  Amazing village style ...               0   \n",
       "1 3866       Food Review: Cooking chinese hot pot at home               1   \n",
       "  3542  Regression Intro - Practical Machine Learning ...               1   \n",
       "  1136           YumPower cooking demos at MOA for Go Red               1   \n",
       "  6748                    CS:GO's Future from Valve's AMA               1   \n",
       "  6006  Curry Chicken Sub | Thank You Speech | 咖哩雞潛艇 :...               1   \n",
       "  2229  ENG SUBS Battalion Vostok fighter cooking bors...               1   \n",
       "  868                     Cooking with Robonyan Episode 3               1   \n",
       "  4980                   Cooking Time! Breakfast in a Cup               1   \n",
       "  1233                    RebelWellness Is...Vanessa Cook               1   \n",
       "  3140            MIMIC - Georgia Tech - Machine Learning               1   \n",
       "2 7099  Head of Big Data at Nortal, Lauri Ilison speak...               2   \n",
       "  3297                 Learn the Deep English Method Fast               2   \n",
       "  6134                    The Capital Asset Pricing Model               2   \n",
       "  4901  Insights | Big data & cognitive technologies t...               2   \n",
       "  6684         4. Stochastic Gradient Descent Convergence               2   \n",
       "  2533                          What is Machine Learning?               2   \n",
       "  2675                                 2. Sliding Windows               2   \n",
       "  4072               011 Machine learning for video games               2   \n",
       "  521                                       Deep learning               2   \n",
       "  5352  Machine Learning With Python - Hierarchical Cl...               2   \n",
       "3 1662  Mix Vegetable Pakora Recipe in Hindi By Cookin...               3   \n",
       "  2607    HOW TO COOKING JAPANESE MADE “PEYOUNG YAKISOBA”               3   \n",
       "  1206  How I cooked Korean Mutton in Indian Style|Tam...               3   \n",
       "  4962  Sichuan Chicken Recipe - Szechuan Chicken by C...               3   \n",
       "  5408  Tsubako cooking vegetarian pyttipanna　ツバコクッキング...               3   \n",
       "  47                          [ML1-006] Setting up Jupyer               3   \n",
       "  652   Chocolate Marble Cake Recipe in Hindi by Cooki...               3   \n",
       "  6464  Chicken Manchurian (how to make chicken manchu...               3   \n",
       "  2803  Methi Pak / Methi ke Laddoo Recipe in Hindi By...               3   \n",
       "  3011  How to Make Ginger Fried Chicken |  Hilah Cooking               3   \n",
       "\n",
       "                                               link  \n",
       "0 6764  https://www.youtube.com/watch?v=XaYhbEVoHWc  \n",
       "  1799  https://www.youtube.com/watch?v=bYRK7YKntk8  \n",
       "  783   https://www.youtube.com/watch?v=4ZSVMRbrrek  \n",
       "  7324  https://www.youtube.com/watch?v=zTalPwbmXBM  \n",
       "  5082  https://www.youtube.com/watch?v=PxE2bbG2Hkw  \n",
       "  1045  https://www.youtube.com/watch?v=76YKkk8dWt4  \n",
       "  2367  https://www.youtube.com/watch?v=Ee-erS8KIuQ  \n",
       "  1840  https://www.youtube.com/watch?v=C7ApHn2hqZc  \n",
       "  3289  https://www.youtube.com/watch?v=ibYV3C8OXQk  \n",
       "  917   https://www.youtube.com/watch?v=66bFU50Wwb8  \n",
       "1 3866  https://www.youtube.com/watch?v=KoiWzEPBCqU  \n",
       "  3542  https://www.youtube.com/watch?v=JcI5Vnw0b2c  \n",
       "  1136  https://www.youtube.com/watch?v=7Z6_cPKVWUU  \n",
       "  6748  https://www.youtube.com/watch?v=x7D76z4k0Kk  \n",
       "  6006  https://www.youtube.com/watch?v=Twg-Zp7iXOI  \n",
       "  2229  https://www.youtube.com/watch?v=DtuniGlC_Ko  \n",
       "  868   https://www.youtube.com/watch?v=5POgkpRFtA0  \n",
       "  4980  https://www.youtube.com/watch?v=piFRKfAbyQA  \n",
       "  1233  https://www.youtube.com/watch?v=8RBK0HEoRLU  \n",
       "  3140  https://www.youtube.com/watch?v=HNXejaW3LiU  \n",
       "2 7099  https://www.youtube.com/watch?v=yS4pohXrt5Q  \n",
       "  3297  https://www.youtube.com/watch?v=iCedpqXLIe0  \n",
       "  6134  https://www.youtube.com/watch?v=UJlJg9rxTvU  \n",
       "  4901  https://www.youtube.com/watch?v=P26wZdiIWRE  \n",
       "  6684  https://www.youtube.com/watch?v=wUUP63GEh20  \n",
       "  2533  https://www.youtube.com/watch?v=f_uwKZIAeM0  \n",
       "  2675  https://www.youtube.com/watch?v=FnpBTpjNLWw  \n",
       "  4072  https://www.youtube.com/watch?v=lhZo43WQ9FY  \n",
       "  521   https://www.youtube.com/watch?v=2OCdnliQhA4  \n",
       "  5352  https://www.youtube.com/watch?v=R8cwXFth9M0  \n",
       "3 1662  https://www.youtube.com/watch?v=BGNPmWP6S48  \n",
       "  2607  https://www.youtube.com/watch?v=fezuNasUxcM  \n",
       "  1206  https://www.youtube.com/watch?v=8jX7EzxX618  \n",
       "  4962  https://www.youtube.com/watch?v=ph929uk8g50  \n",
       "  5408  https://www.youtube.com/watch?v=rJ2u1c_vrls  \n",
       "  47    https://www.youtube.com/watch?v=_IlH5sj1geM  \n",
       "  652   https://www.youtube.com/watch?v=3tk9h241d4Y  \n",
       "  6464  https://www.youtube.com/watch?v=VXkPR2cd2XY  \n",
       "  2803  https://www.youtube.com/watch?v=G7bqrIOWz2A  \n",
       "  3011  https://www.youtube.com/watch?v=H04Y9Gn7IUQ  "
      ]
     },
     "execution_count": 32,
     "metadata": {},
     "output_type": "execute_result"
    }
   ],
   "source": [
    "pd.set_option('display.max_rows', 120)\n",
    "\n",
    "# https://stackoverflow.com/questions/22472213/python-random-selection-per-group\n",
    "\n",
    "size = 10        # sample size\n",
    "replace = False  # with replacement\n",
    "fn = lambda obj: obj.loc[np.random.choice(obj.index, size, replace),:]\n",
    "clustered_sample = videos_df.groupby('cluster_labels', as_index=False).apply(fn)\n",
    "clustered_sample[['videoTitle','cluster_labels', 'link']]"
   ]
  }
 ],
 "metadata": {
  "kernelspec": {
   "display_name": "Python 3",
   "language": "python",
   "name": "python3"
  },
  "language_info": {
   "codemirror_mode": {
    "name": "ipython",
    "version": 3
   },
   "file_extension": ".py",
   "mimetype": "text/x-python",
   "name": "python",
   "nbconvert_exporter": "python",
   "pygments_lexer": "ipython3",
   "version": "3.6.0"
  }
 },
 "nbformat": 4,
 "nbformat_minor": 2
}
