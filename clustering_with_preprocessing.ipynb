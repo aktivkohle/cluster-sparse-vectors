{
 "cells": [
  {
   "cell_type": "code",
   "execution_count": 1,
   "metadata": {},
   "outputs": [
    {
     "name": "stdout",
     "output_type": "stream",
     "text": [
      "CPU times: user 9.18 s, sys: 404 ms, total: 9.58 s\n",
      "Wall time: 9.64 s\n"
     ]
    }
   ],
   "source": [
    "%%time\n",
    "%run prepare_variables.py"
   ]
  },
  {
   "cell_type": "code",
   "execution_count": 2,
   "metadata": {},
   "outputs": [
    {
     "data": {
      "text/plain": [
       "(7364, 429429)"
      ]
     },
     "execution_count": 2,
     "metadata": {},
     "output_type": "execute_result"
    }
   ],
   "source": [
    "p.shape"
   ]
  },
  {
   "cell_type": "code",
   "execution_count": 3,
   "metadata": {},
   "outputs": [
    {
     "data": {
      "text/plain": [
       "<7364x429429 sparse matrix of type '<class 'numpy.float64'>'\n",
       "\twith 1581374 stored elements in COOrdinate format>"
      ]
     },
     "execution_count": 3,
     "metadata": {},
     "output_type": "execute_result"
    }
   ],
   "source": [
    "p"
   ]
  },
  {
   "cell_type": "markdown",
   "metadata": {},
   "source": [
    "#### That is very sparse - only 0.05% of the matrix has anything in it."
   ]
  },
  {
   "cell_type": "markdown",
   "metadata": {},
   "source": [
    "#### http://scikit-learn.org/stable/auto_examples/text/document_clustering.html#sphx-glr-auto-examples-text-document-clustering-py\n",
    "\n",
    "#### http://scikit-learn.org/stable/modules/generated/sklearn.preprocessing.Normalizer.html#sklearn.preprocessing.Normalizer"
   ]
  },
  {
   "cell_type": "code",
   "execution_count": 2,
   "metadata": {
    "collapsed": true
   },
   "outputs": [],
   "source": [
    "from sklearn.pipeline import make_pipeline\n",
    "from sklearn.decomposition import TruncatedSVD\n",
    "from sklearn.preprocessing import Normalizer\n",
    "normalizer = Normalizer(copy=False)\n",
    "from sklearn.cluster import KMeans\n",
    "from numpy.random import random"
   ]
  },
  {
   "cell_type": "code",
   "execution_count": 8,
   "metadata": {},
   "outputs": [
    {
     "name": "stdout",
     "output_type": "stream",
     "text": [
      "CPU times: user 10min 11s, sys: 1min 31s, total: 11min 43s\n",
      "Wall time: 5min 8s\n"
     ]
    }
   ],
   "source": [
    "%%time\n",
    "svd = TruncatedSVD(n_components=1000, n_iter=7, random_state=42)\n",
    "pipeline = make_pipeline(svd, normalizer)\n",
    "p_new1 = pipeline.fit_transform(p)\n",
    "p_new1.shape"
   ]
  },
  {
   "cell_type": "code",
   "execution_count": 9,
   "metadata": {},
   "outputs": [
    {
     "name": "stdout",
     "output_type": "stream",
     "text": [
      "CPU times: user 30min 52s, sys: 1min 35s, total: 32min 28s\n",
      "Wall time: 12min 24s\n"
     ]
    }
   ],
   "source": [
    "%%time\n",
    "svd = TruncatedSVD(n_components=2000, n_iter=7, random_state=42)\n",
    "pipeline = make_pipeline(svd, normalizer)\n",
    "p_new2 = pipeline.fit_transform(p)"
   ]
  },
  {
   "cell_type": "code",
   "execution_count": 10,
   "metadata": {},
   "outputs": [
    {
     "name": "stdout",
     "output_type": "stream",
     "text": [
      "CPU times: user 8min, sys: 3min 17s, total: 11min 18s\n",
      "Wall time: 6min 9s\n"
     ]
    }
   ],
   "source": [
    "%%time\n",
    "svd = TruncatedSVD(n_components=150, n_iter=100, random_state=42)\n",
    "pipeline = make_pipeline(svd, normalizer)\n",
    "p_new3 = pipeline.fit_transform(p)"
   ]
  },
  {
   "cell_type": "code",
   "execution_count": 3,
   "metadata": {},
   "outputs": [
    {
     "name": "stdout",
     "output_type": "stream",
     "text": [
      "CPU times: user 364 ms, sys: 16 ms, total: 380 ms\n",
      "Wall time: 379 ms\n"
     ]
    }
   ],
   "source": [
    "%%time\n",
    "p_new4 = normalizer.fit_transform(p)"
   ]
  },
  {
   "cell_type": "code",
   "execution_count": 5,
   "metadata": {
    "collapsed": true
   },
   "outputs": [],
   "source": [
    "#  p_new = normalizer.fit_transform(p)"
   ]
  },
  {
   "cell_type": "code",
   "execution_count": 35,
   "metadata": {},
   "outputs": [
    {
     "name": "stdout",
     "output_type": "stream",
     "text": [
      "(7364, 1000) (7364, 2000) (7364, 150) (7364, 429429)\n"
     ]
    }
   ],
   "source": [
    "print (p_new1.shape, p_new2.shape, p_new3.shape, p_new4.shape)"
   ]
  },
  {
   "cell_type": "code",
   "execution_count": 11,
   "metadata": {},
   "outputs": [
    {
     "name": "stdout",
     "output_type": "stream",
     "text": [
      "CPU times: user 1.05 s, sys: 80 ms, total: 1.13 s\n",
      "Wall time: 3.79 s\n"
     ]
    }
   ],
   "source": [
    "%%time\n",
    "kmeans1 = KMeans(n_clusters=5, n_jobs=-1).fit(p_new1) "
   ]
  },
  {
   "cell_type": "code",
   "execution_count": 12,
   "metadata": {},
   "outputs": [
    {
     "name": "stdout",
     "output_type": "stream",
     "text": [
      "CPU times: user 2.03 s, sys: 100 ms, total: 2.13 s\n",
      "Wall time: 6.65 s\n"
     ]
    }
   ],
   "source": [
    "%%time\n",
    "kmeans2 = KMeans(n_clusters=5, n_jobs=-1).fit(p_new2) "
   ]
  },
  {
   "cell_type": "code",
   "execution_count": 13,
   "metadata": {},
   "outputs": [
    {
     "name": "stdout",
     "output_type": "stream",
     "text": [
      "CPU times: user 196 ms, sys: 44 ms, total: 240 ms\n",
      "Wall time: 800 ms\n"
     ]
    }
   ],
   "source": [
    "%%time\n",
    "kmeans3 = KMeans(n_clusters=5, n_jobs=-1).fit(p_new3) "
   ]
  },
  {
   "cell_type": "code",
   "execution_count": 4,
   "metadata": {},
   "outputs": [
    {
     "name": "stdout",
     "output_type": "stream",
     "text": [
      "CPU times: user 604 ms, sys: 152 ms, total: 756 ms\n",
      "Wall time: 5min 28s\n"
     ]
    }
   ],
   "source": [
    "%%time\n",
    "kmeans4 = KMeans(n_clusters=5, n_jobs=-1).fit(p_new4)"
   ]
  },
  {
   "cell_type": "code",
   "execution_count": 15,
   "metadata": {},
   "outputs": [
    {
     "data": {
      "text/plain": [
       "numpy.ndarray"
      ]
     },
     "execution_count": 15,
     "metadata": {},
     "output_type": "execute_result"
    }
   ],
   "source": [
    "type(p_new1)"
   ]
  },
  {
   "cell_type": "code",
   "execution_count": 16,
   "metadata": {},
   "outputs": [
    {
     "data": {
      "text/plain": [
       "sklearn.cluster.k_means_.KMeans"
      ]
     },
     "execution_count": 16,
     "metadata": {},
     "output_type": "execute_result"
    }
   ],
   "source": [
    "type(kmeans1)"
   ]
  },
  {
   "cell_type": "code",
   "execution_count": 27,
   "metadata": {},
   "outputs": [],
   "source": [
    "np.save('p_new1', p_new1)\n",
    "np.save('p_new2', p_new2)\n",
    "np.save('p_new3', p_new3)\n",
    "np.save('p_new4', p_new4)\n",
    "np.save('kmeans1', kmeans1)\n",
    "np.save('kmeans2', kmeans2)\n",
    "np.save('kmeans3', kmeans3)\n",
    "np.save('kmeans4', kmeans4)"
   ]
  },
  {
   "cell_type": "markdown",
   "metadata": {},
   "source": [
    "## How many videos has it found in each cluster?"
   ]
  },
  {
   "cell_type": "code",
   "execution_count": 24,
   "metadata": {
    "collapsed": true
   },
   "outputs": [],
   "source": [
    "kmeans = kmeans2"
   ]
  },
  {
   "cell_type": "code",
   "execution_count": 25,
   "metadata": {},
   "outputs": [
    {
     "data": {
      "text/html": [
       "<div>\n",
       "<style>\n",
       "    .dataframe thead tr:only-child th {\n",
       "        text-align: right;\n",
       "    }\n",
       "\n",
       "    .dataframe thead th {\n",
       "        text-align: left;\n",
       "    }\n",
       "\n",
       "    .dataframe tbody tr th {\n",
       "        vertical-align: top;\n",
       "    }\n",
       "</style>\n",
       "<table border=\"1\" class=\"dataframe\">\n",
       "  <thead>\n",
       "    <tr style=\"text-align: right;\">\n",
       "      <th></th>\n",
       "      <th>videoTitle</th>\n",
       "    </tr>\n",
       "    <tr>\n",
       "      <th>cluster_labels</th>\n",
       "      <th></th>\n",
       "    </tr>\n",
       "  </thead>\n",
       "  <tbody>\n",
       "    <tr>\n",
       "      <th>0</th>\n",
       "      <td>818</td>\n",
       "    </tr>\n",
       "    <tr>\n",
       "      <th>1</th>\n",
       "      <td>1649</td>\n",
       "    </tr>\n",
       "    <tr>\n",
       "      <th>2</th>\n",
       "      <td>290</td>\n",
       "    </tr>\n",
       "    <tr>\n",
       "      <th>3</th>\n",
       "      <td>2124</td>\n",
       "    </tr>\n",
       "    <tr>\n",
       "      <th>4</th>\n",
       "      <td>2483</td>\n",
       "    </tr>\n",
       "  </tbody>\n",
       "</table>\n",
       "</div>"
      ],
      "text/plain": [
       "                videoTitle\n",
       "cluster_labels            \n",
       "0                      818\n",
       "1                     1649\n",
       "2                      290\n",
       "3                     2124\n",
       "4                     2483"
      ]
     },
     "execution_count": 25,
     "metadata": {},
     "output_type": "execute_result"
    }
   ],
   "source": [
    "videos_df['cluster_labels'] = kmeans.labels_\n",
    "videos_df.groupby('cluster_labels').count()[['videoTitle']]"
   ]
  },
  {
   "cell_type": "markdown",
   "metadata": {},
   "source": [
    "## Sample ten videos randomly from each of those groups:"
   ]
  },
  {
   "cell_type": "code",
   "execution_count": 26,
   "metadata": {
    "scrolled": false
   },
   "outputs": [
    {
     "data": {
      "text/html": [
       "<div>\n",
       "<style>\n",
       "    .dataframe thead tr:only-child th {\n",
       "        text-align: right;\n",
       "    }\n",
       "\n",
       "    .dataframe thead th {\n",
       "        text-align: left;\n",
       "    }\n",
       "\n",
       "    .dataframe tbody tr th {\n",
       "        vertical-align: top;\n",
       "    }\n",
       "</style>\n",
       "<table border=\"1\" class=\"dataframe\">\n",
       "  <thead>\n",
       "    <tr style=\"text-align: right;\">\n",
       "      <th></th>\n",
       "      <th></th>\n",
       "      <th>videoTitle</th>\n",
       "      <th>cluster_labels</th>\n",
       "      <th>link</th>\n",
       "    </tr>\n",
       "  </thead>\n",
       "  <tbody>\n",
       "    <tr>\n",
       "      <th rowspan=\"10\" valign=\"top\">0</th>\n",
       "      <th>4393</th>\n",
       "      <td>Cooking With Fernando!</td>\n",
       "      <td>0</td>\n",
       "      <td>https://www.youtube.com/watch?v=mwPxfE-PUb8</td>\n",
       "    </tr>\n",
       "    <tr>\n",
       "      <th>4410</th>\n",
       "      <td>how to make mutanjan</td>\n",
       "      <td>0</td>\n",
       "      <td>https://www.youtube.com/watch?v=MYo25VmzhME</td>\n",
       "    </tr>\n",
       "    <tr>\n",
       "      <th>4089</th>\n",
       "      <td>Tsubako cooking chili herb dip　簡単ツバコクッキング　チリハー...</td>\n",
       "      <td>0</td>\n",
       "      <td>https://www.youtube.com/watch?v=lK_u202cNU8</td>\n",
       "    </tr>\n",
       "    <tr>\n",
       "      <th>1447</th>\n",
       "      <td>How To: Simple Egg Masala Fry | Ventuno Home C...</td>\n",
       "      <td>0</td>\n",
       "      <td>https://www.youtube.com/watch?v=AGz9CoFdjP4</td>\n",
       "    </tr>\n",
       "    <tr>\n",
       "      <th>7356</th>\n",
       "      <td>Đồ Chơi Nấu Ăn Disney Princess Kitchen Toy Coo...</td>\n",
       "      <td>0</td>\n",
       "      <td>https://www.youtube.com/watch?v=ZXhZ7GAR7UI</td>\n",
       "    </tr>\n",
       "    <tr>\n",
       "      <th>6665</th>\n",
       "      <td>Low-Carb Shirataki Pasta with Meat Sauce Recip...</td>\n",
       "      <td>0</td>\n",
       "      <td>https://www.youtube.com/watch?v=WsiUp5klsTs</td>\n",
       "    </tr>\n",
       "    <tr>\n",
       "      <th>2154</th>\n",
       "      <td>Gongura chicken curry - How to cook Chicken cu...</td>\n",
       "      <td>0</td>\n",
       "      <td>https://www.youtube.com/watch?v=DJ52G9NR3V4</td>\n",
       "    </tr>\n",
       "    <tr>\n",
       "      <th>6493</th>\n",
       "      <td>What's Cooking: Sweet Potato Hash</td>\n",
       "      <td>0</td>\n",
       "      <td>https://www.youtube.com/watch?v=w0l-tB6fdGU</td>\n",
       "    </tr>\n",
       "    <tr>\n",
       "      <th>1498</th>\n",
       "      <td>Aloo capsicum fry - How to cook potato capsicu...</td>\n",
       "      <td>0</td>\n",
       "      <td>https://www.youtube.com/watch?v=amitoHjHyLk</td>\n",
       "    </tr>\n",
       "    <tr>\n",
       "      <th>6628</th>\n",
       "      <td>Cooking Goat Blood with Goat Meat in Our Villa...</td>\n",
       "      <td>0</td>\n",
       "      <td>https://www.youtube.com/watch?v=WNRS8WXti9A</td>\n",
       "    </tr>\n",
       "    <tr>\n",
       "      <th rowspan=\"10\" valign=\"top\">1</th>\n",
       "      <th>201</th>\n",
       "      <td>Cooking 101: Baked Chicken Nuggets</td>\n",
       "      <td>1</td>\n",
       "      <td>https://www.youtube.com/watch?v=-rwFTrqaUcs</td>\n",
       "    </tr>\n",
       "    <tr>\n",
       "      <th>701</th>\n",
       "      <td>Alvita Cooking watch out for that knife</td>\n",
       "      <td>1</td>\n",
       "      <td>https://www.youtube.com/watch?v=4DdkYAwy9Ic</td>\n",
       "    </tr>\n",
       "    <tr>\n",
       "      <th>1463</th>\n",
       "      <td>Big Game Rib Cook Off Pt. 2</td>\n",
       "      <td>1</td>\n",
       "      <td>https://www.youtube.com/watch?v=aIfuO7ezv7s</td>\n",
       "    </tr>\n",
       "    <tr>\n",
       "      <th>349</th>\n",
       "      <td>Haute Cuisine | On Call with the Prairie Doc |...</td>\n",
       "      <td>1</td>\n",
       "      <td>https://www.youtube.com/watch?v=10FbbXfp9V8</td>\n",
       "    </tr>\n",
       "    <tr>\n",
       "      <th>1917</th>\n",
       "      <td>Cooking with the Sassy Chef – Winter Warmers</td>\n",
       "      <td>1</td>\n",
       "      <td>https://www.youtube.com/watch?v=cHS6eCnV3Rc</td>\n",
       "    </tr>\n",
       "    <tr>\n",
       "      <th>3452</th>\n",
       "      <td>MAMMA VS PAPA' IN CUCINA!</td>\n",
       "      <td>1</td>\n",
       "      <td>https://www.youtube.com/watch?v=IXMCey_VMS8</td>\n",
       "    </tr>\n",
       "    <tr>\n",
       "      <th>1379</th>\n",
       "      <td>Thoughts You Have While Cooking</td>\n",
       "      <td>1</td>\n",
       "      <td>https://www.youtube.com/watch?v=a23zSS3y4SE</td>\n",
       "    </tr>\n",
       "    <tr>\n",
       "      <th>3588</th>\n",
       "      <td>HSN | The Monday Night Show with Adam Freeman ...</td>\n",
       "      <td>1</td>\n",
       "      <td>https://www.youtube.com/watch?v=jIj88n6vsJ0</td>\n",
       "    </tr>\n",
       "    <tr>\n",
       "      <th>4432</th>\n",
       "      <td>HSN | HSN Today: Holiday Cooking featuring Das...</td>\n",
       "      <td>1</td>\n",
       "      <td>https://www.youtube.com/watch?v=n1yrd505Myc</td>\n",
       "    </tr>\n",
       "    <tr>\n",
       "      <th>4984</th>\n",
       "      <td>WSRE | Gourmet Cooking with Earl Peyroux | Epi...</td>\n",
       "      <td>1</td>\n",
       "      <td>https://www.youtube.com/watch?v=PiYeaW3x10s</td>\n",
       "    </tr>\n",
       "    <tr>\n",
       "      <th rowspan=\"10\" valign=\"top\">2</th>\n",
       "      <th>205</th>\n",
       "      <td>Upward Facing Dog</td>\n",
       "      <td>2</td>\n",
       "      <td>https://www.youtube.com/watch?v=-trsM6bc18I</td>\n",
       "    </tr>\n",
       "    <tr>\n",
       "      <th>6611</th>\n",
       "      <td>Highly Effective Dog Training Secrets</td>\n",
       "      <td>2</td>\n",
       "      <td>https://www.youtube.com/watch?v=wL9uBWgMSsA</td>\n",
       "    </tr>\n",
       "    <tr>\n",
       "      <th>46</th>\n",
       "      <td>10 Most DANGEROUS DOGS in the World</td>\n",
       "      <td>2</td>\n",
       "      <td>https://www.youtube.com/watch?v=_IhsbhPR4f4</td>\n",
       "    </tr>\n",
       "    <tr>\n",
       "      <th>5943</th>\n",
       "      <td>The Best Time Of Day To Train Your Dog</td>\n",
       "      <td>2</td>\n",
       "      <td>https://www.youtube.com/watch?v=tO_pp59I8pA</td>\n",
       "    </tr>\n",
       "    <tr>\n",
       "      <th>3225</th>\n",
       "      <td>Willard nonprofit trains then donates police d...</td>\n",
       "      <td>2</td>\n",
       "      <td>https://www.youtube.com/watch?v=hzowMbk2XQA</td>\n",
       "    </tr>\n",
       "    <tr>\n",
       "      <th>4456</th>\n",
       "      <td>Teach Your Dog to Listen - Use Reward Scaling ...</td>\n",
       "      <td>2</td>\n",
       "      <td>https://www.youtube.com/watch?v=n7XxG5KchQ8</td>\n",
       "    </tr>\n",
       "    <tr>\n",
       "      <th>2349</th>\n",
       "      <td>Puppy Training: Games For Teaching Come When C...</td>\n",
       "      <td>2</td>\n",
       "      <td>https://www.youtube.com/watch?v=EbQ6V-3IffI</td>\n",
       "    </tr>\n",
       "    <tr>\n",
       "      <th>2682</th>\n",
       "      <td>How to Make Sooo Cali Dogs |  Hilah Cooking</td>\n",
       "      <td>2</td>\n",
       "      <td>https://www.youtube.com/watch?v=fOGnL8_WlEg</td>\n",
       "    </tr>\n",
       "    <tr>\n",
       "      <th>2539</th>\n",
       "      <td>What is dog training?</td>\n",
       "      <td>2</td>\n",
       "      <td>https://www.youtube.com/watch?v=f0RQ9yUV6mQ</td>\n",
       "    </tr>\n",
       "    <tr>\n",
       "      <th>3891</th>\n",
       "      <td>Rob Peladeau: \"Behaviorist Dog Trainer\" | Talk...</td>\n",
       "      <td>2</td>\n",
       "      <td>https://www.youtube.com/watch?v=KrKEZIxFB64</td>\n",
       "    </tr>\n",
       "    <tr>\n",
       "      <th rowspan=\"10\" valign=\"top\">3</th>\n",
       "      <th>6435</th>\n",
       "      <td>FutureGrid MOOC: IPOP Unit 6: IPOP Architectur...</td>\n",
       "      <td>3</td>\n",
       "      <td>https://www.youtube.com/watch?v=vTx_t6ewfG8</td>\n",
       "    </tr>\n",
       "    <tr>\n",
       "      <th>5590</th>\n",
       "      <td>Leveraging Oracle's Life Sciences Data Hub (LSH)</td>\n",
       "      <td>3</td>\n",
       "      <td>https://www.youtube.com/watch?v=S8Rq2rU0Pxg</td>\n",
       "    </tr>\n",
       "    <tr>\n",
       "      <th>678</th>\n",
       "      <td>IU Cloud Computing MOOC: Virtue of Virtual 3: ...</td>\n",
       "      <td>3</td>\n",
       "      <td>https://www.youtube.com/watch?v=457qkM5V6yE</td>\n",
       "    </tr>\n",
       "    <tr>\n",
       "      <th>6261</th>\n",
       "      <td>[PL] Machine learning linear regression. Imple...</td>\n",
       "      <td>3</td>\n",
       "      <td>https://www.youtube.com/watch?v=V-rXs7JAGzY</td>\n",
       "    </tr>\n",
       "    <tr>\n",
       "      <th>4483</th>\n",
       "      <td>Data in JSON Format - Intro to Data Science</td>\n",
       "      <td>3</td>\n",
       "      <td>https://www.youtube.com/watch?v=nBv0qMuJggw</td>\n",
       "    </tr>\n",
       "    <tr>\n",
       "      <th>5546</th>\n",
       "      <td>2. Large Margin Intuition</td>\n",
       "      <td>3</td>\n",
       "      <td>https://www.youtube.com/watch?v=RZc-TCKE2_k</td>\n",
       "    </tr>\n",
       "    <tr>\n",
       "      <th>3940</th>\n",
       "      <td>Northwestern Cardiologist Elizabeth McNally</td>\n",
       "      <td>3</td>\n",
       "      <td>https://www.youtube.com/watch?v=KvHFj9hM9c0</td>\n",
       "    </tr>\n",
       "    <tr>\n",
       "      <th>2191</th>\n",
       "      <td>Cooking One Handed video</td>\n",
       "      <td>3</td>\n",
       "      <td>https://www.youtube.com/watch?v=Dn7tErlc-ZA</td>\n",
       "    </tr>\n",
       "    <tr>\n",
       "      <th>905</th>\n",
       "      <td>3. Learning Sigmoid Belief Nets</td>\n",
       "      <td>3</td>\n",
       "      <td>https://www.youtube.com/watch?v=5zhhr7HpqjQ</td>\n",
       "    </tr>\n",
       "    <tr>\n",
       "      <th>461</th>\n",
       "      <td>4. Plotting Data</td>\n",
       "      <td>3</td>\n",
       "      <td>https://www.youtube.com/watch?v=27_wInxAlSY</td>\n",
       "    </tr>\n",
       "    <tr>\n",
       "      <th rowspan=\"10\" valign=\"top\">4</th>\n",
       "      <th>975</th>\n",
       "      <td>Attic to Basement Estate Cleanouts Episode 54 ...</td>\n",
       "      <td>4</td>\n",
       "      <td>https://www.youtube.com/watch?v=6lyu7dNzmM8</td>\n",
       "    </tr>\n",
       "    <tr>\n",
       "      <th>766</th>\n",
       "      <td>Excel Data Analysis - Move Data From Column To...</td>\n",
       "      <td>4</td>\n",
       "      <td>https://www.youtube.com/watch?v=4UYdbByGxBM</td>\n",
       "    </tr>\n",
       "    <tr>\n",
       "      <th>5845</th>\n",
       "      <td>Culinary Specialist (CS)</td>\n",
       "      <td>4</td>\n",
       "      <td>https://www.youtube.com/watch?v=tb0Pn8vBVAQ</td>\n",
       "    </tr>\n",
       "    <tr>\n",
       "      <th>5565</th>\n",
       "      <td>Computing sharpe ratio</td>\n",
       "      <td>4</td>\n",
       "      <td>https://www.youtube.com/watch?v=s0bxoD_0fAU</td>\n",
       "    </tr>\n",
       "    <tr>\n",
       "      <th>1150</th>\n",
       "      <td>Cooking Mama,Cooking Mama 2,Cooking Mama Colle...</td>\n",
       "      <td>4</td>\n",
       "      <td>https://www.youtube.com/watch?v=82OozcsnF5A</td>\n",
       "    </tr>\n",
       "    <tr>\n",
       "      <th>1548</th>\n",
       "      <td>Ginger Garlic Paste, Dry Coconut Paste - Vatan...</td>\n",
       "      <td>4</td>\n",
       "      <td>https://www.youtube.com/watch?v=aVk5SDvE4wk</td>\n",
       "    </tr>\n",
       "    <tr>\n",
       "      <th>6234</th>\n",
       "      <td>Torch - Ep. 19 (Deep Learning SIMPLIFIED)</td>\n",
       "      <td>4</td>\n",
       "      <td>https://www.youtube.com/watch?v=uxja6iwOnc4</td>\n",
       "    </tr>\n",
       "    <tr>\n",
       "      <th>6400</th>\n",
       "      <td>Sights &amp; sounds of cooking at Scenns</td>\n",
       "      <td>4</td>\n",
       "      <td>https://www.youtube.com/watch?v=vOP0QRh3rfY</td>\n",
       "    </tr>\n",
       "    <tr>\n",
       "      <th>5129</th>\n",
       "      <td>ইংলিশ ব্রেকফাস্ট ||| Restaurant Style English ...</td>\n",
       "      <td>4</td>\n",
       "      <td>https://www.youtube.com/watch?v=Q3y_6dlmhJw</td>\n",
       "    </tr>\n",
       "    <tr>\n",
       "      <th>5529</th>\n",
       "      <td>Broken Arrow police aim to train dog walkers t...</td>\n",
       "      <td>4</td>\n",
       "      <td>https://www.youtube.com/watch?v=rxUs1w7e9Tc</td>\n",
       "    </tr>\n",
       "  </tbody>\n",
       "</table>\n",
       "</div>"
      ],
      "text/plain": [
       "                                               videoTitle  cluster_labels  \\\n",
       "0 4393                             Cooking With Fernando!               0   \n",
       "  4410                               how to make mutanjan               0   \n",
       "  4089  Tsubako cooking chili herb dip　簡単ツバコクッキング　チリハー...               0   \n",
       "  1447  How To: Simple Egg Masala Fry | Ventuno Home C...               0   \n",
       "  7356  Đồ Chơi Nấu Ăn Disney Princess Kitchen Toy Coo...               0   \n",
       "  6665  Low-Carb Shirataki Pasta with Meat Sauce Recip...               0   \n",
       "  2154  Gongura chicken curry - How to cook Chicken cu...               0   \n",
       "  6493                  What's Cooking: Sweet Potato Hash               0   \n",
       "  1498  Aloo capsicum fry - How to cook potato capsicu...               0   \n",
       "  6628  Cooking Goat Blood with Goat Meat in Our Villa...               0   \n",
       "1 201                  Cooking 101: Baked Chicken Nuggets               1   \n",
       "  701             Alvita Cooking watch out for that knife               1   \n",
       "  1463                        Big Game Rib Cook Off Pt. 2               1   \n",
       "  349   Haute Cuisine | On Call with the Prairie Doc |...               1   \n",
       "  1917       Cooking with the Sassy Chef – Winter Warmers               1   \n",
       "  3452                          MAMMA VS PAPA' IN CUCINA!               1   \n",
       "  1379                    Thoughts You Have While Cooking               1   \n",
       "  3588  HSN | The Monday Night Show with Adam Freeman ...               1   \n",
       "  4432  HSN | HSN Today: Holiday Cooking featuring Das...               1   \n",
       "  4984  WSRE | Gourmet Cooking with Earl Peyroux | Epi...               1   \n",
       "2 205                                   Upward Facing Dog               2   \n",
       "  6611              Highly Effective Dog Training Secrets               2   \n",
       "  46                  10 Most DANGEROUS DOGS in the World               2   \n",
       "  5943             The Best Time Of Day To Train Your Dog               2   \n",
       "  3225  Willard nonprofit trains then donates police d...               2   \n",
       "  4456  Teach Your Dog to Listen - Use Reward Scaling ...               2   \n",
       "  2349  Puppy Training: Games For Teaching Come When C...               2   \n",
       "  2682        How to Make Sooo Cali Dogs |  Hilah Cooking               2   \n",
       "  2539                              What is dog training?               2   \n",
       "  3891  Rob Peladeau: \"Behaviorist Dog Trainer\" | Talk...               2   \n",
       "3 6435  FutureGrid MOOC: IPOP Unit 6: IPOP Architectur...               3   \n",
       "  5590   Leveraging Oracle's Life Sciences Data Hub (LSH)               3   \n",
       "  678   IU Cloud Computing MOOC: Virtue of Virtual 3: ...               3   \n",
       "  6261  [PL] Machine learning linear regression. Imple...               3   \n",
       "  4483        Data in JSON Format - Intro to Data Science               3   \n",
       "  5546                          2. Large Margin Intuition               3   \n",
       "  3940        Northwestern Cardiologist Elizabeth McNally               3   \n",
       "  2191                           Cooking One Handed video               3   \n",
       "  905                     3. Learning Sigmoid Belief Nets               3   \n",
       "  461                                    4. Plotting Data               3   \n",
       "4 975   Attic to Basement Estate Cleanouts Episode 54 ...               4   \n",
       "  766   Excel Data Analysis - Move Data From Column To...               4   \n",
       "  5845                           Culinary Specialist (CS)               4   \n",
       "  5565                             Computing sharpe ratio               4   \n",
       "  1150  Cooking Mama,Cooking Mama 2,Cooking Mama Colle...               4   \n",
       "  1548  Ginger Garlic Paste, Dry Coconut Paste - Vatan...               4   \n",
       "  6234          Torch - Ep. 19 (Deep Learning SIMPLIFIED)               4   \n",
       "  6400               Sights & sounds of cooking at Scenns               4   \n",
       "  5129  ইংলিশ ব্রেকফাস্ট ||| Restaurant Style English ...               4   \n",
       "  5529  Broken Arrow police aim to train dog walkers t...               4   \n",
       "\n",
       "                                               link  \n",
       "0 4393  https://www.youtube.com/watch?v=mwPxfE-PUb8  \n",
       "  4410  https://www.youtube.com/watch?v=MYo25VmzhME  \n",
       "  4089  https://www.youtube.com/watch?v=lK_u202cNU8  \n",
       "  1447  https://www.youtube.com/watch?v=AGz9CoFdjP4  \n",
       "  7356  https://www.youtube.com/watch?v=ZXhZ7GAR7UI  \n",
       "  6665  https://www.youtube.com/watch?v=WsiUp5klsTs  \n",
       "  2154  https://www.youtube.com/watch?v=DJ52G9NR3V4  \n",
       "  6493  https://www.youtube.com/watch?v=w0l-tB6fdGU  \n",
       "  1498  https://www.youtube.com/watch?v=amitoHjHyLk  \n",
       "  6628  https://www.youtube.com/watch?v=WNRS8WXti9A  \n",
       "1 201   https://www.youtube.com/watch?v=-rwFTrqaUcs  \n",
       "  701   https://www.youtube.com/watch?v=4DdkYAwy9Ic  \n",
       "  1463  https://www.youtube.com/watch?v=aIfuO7ezv7s  \n",
       "  349   https://www.youtube.com/watch?v=10FbbXfp9V8  \n",
       "  1917  https://www.youtube.com/watch?v=cHS6eCnV3Rc  \n",
       "  3452  https://www.youtube.com/watch?v=IXMCey_VMS8  \n",
       "  1379  https://www.youtube.com/watch?v=a23zSS3y4SE  \n",
       "  3588  https://www.youtube.com/watch?v=jIj88n6vsJ0  \n",
       "  4432  https://www.youtube.com/watch?v=n1yrd505Myc  \n",
       "  4984  https://www.youtube.com/watch?v=PiYeaW3x10s  \n",
       "2 205   https://www.youtube.com/watch?v=-trsM6bc18I  \n",
       "  6611  https://www.youtube.com/watch?v=wL9uBWgMSsA  \n",
       "  46    https://www.youtube.com/watch?v=_IhsbhPR4f4  \n",
       "  5943  https://www.youtube.com/watch?v=tO_pp59I8pA  \n",
       "  3225  https://www.youtube.com/watch?v=hzowMbk2XQA  \n",
       "  4456  https://www.youtube.com/watch?v=n7XxG5KchQ8  \n",
       "  2349  https://www.youtube.com/watch?v=EbQ6V-3IffI  \n",
       "  2682  https://www.youtube.com/watch?v=fOGnL8_WlEg  \n",
       "  2539  https://www.youtube.com/watch?v=f0RQ9yUV6mQ  \n",
       "  3891  https://www.youtube.com/watch?v=KrKEZIxFB64  \n",
       "3 6435  https://www.youtube.com/watch?v=vTx_t6ewfG8  \n",
       "  5590  https://www.youtube.com/watch?v=S8Rq2rU0Pxg  \n",
       "  678   https://www.youtube.com/watch?v=457qkM5V6yE  \n",
       "  6261  https://www.youtube.com/watch?v=V-rXs7JAGzY  \n",
       "  4483  https://www.youtube.com/watch?v=nBv0qMuJggw  \n",
       "  5546  https://www.youtube.com/watch?v=RZc-TCKE2_k  \n",
       "  3940  https://www.youtube.com/watch?v=KvHFj9hM9c0  \n",
       "  2191  https://www.youtube.com/watch?v=Dn7tErlc-ZA  \n",
       "  905   https://www.youtube.com/watch?v=5zhhr7HpqjQ  \n",
       "  461   https://www.youtube.com/watch?v=27_wInxAlSY  \n",
       "4 975   https://www.youtube.com/watch?v=6lyu7dNzmM8  \n",
       "  766   https://www.youtube.com/watch?v=4UYdbByGxBM  \n",
       "  5845  https://www.youtube.com/watch?v=tb0Pn8vBVAQ  \n",
       "  5565  https://www.youtube.com/watch?v=s0bxoD_0fAU  \n",
       "  1150  https://www.youtube.com/watch?v=82OozcsnF5A  \n",
       "  1548  https://www.youtube.com/watch?v=aVk5SDvE4wk  \n",
       "  6234  https://www.youtube.com/watch?v=uxja6iwOnc4  \n",
       "  6400  https://www.youtube.com/watch?v=vOP0QRh3rfY  \n",
       "  5129  https://www.youtube.com/watch?v=Q3y_6dlmhJw  \n",
       "  5529  https://www.youtube.com/watch?v=rxUs1w7e9Tc  "
      ]
     },
     "execution_count": 26,
     "metadata": {},
     "output_type": "execute_result"
    }
   ],
   "source": [
    "pd.set_option('display.max_rows', 120)\n",
    "\n",
    "# https://stackoverflow.com/questions/22472213/python-random-selection-per-group\n",
    "\n",
    "size = 10        # sample size\n",
    "replace = False  # with replacement\n",
    "fn = lambda obj: obj.loc[np.random.choice(obj.index, size, replace),:]\n",
    "clustered_sample = videos_df.groupby('cluster_labels', as_index=False).apply(fn)\n",
    "clustered_sample[['videoTitle','cluster_labels', 'link']]"
   ]
  }
 ],
 "metadata": {
  "kernelspec": {
   "display_name": "Python 3",
   "language": "python",
   "name": "python3"
  },
  "language_info": {
   "codemirror_mode": {
    "name": "ipython",
    "version": 3
   },
   "file_extension": ".py",
   "mimetype": "text/x-python",
   "name": "python",
   "nbconvert_exporter": "python",
   "pygments_lexer": "ipython3",
   "version": "3.6.0"
  }
 },
 "nbformat": 4,
 "nbformat_minor": 2
}
